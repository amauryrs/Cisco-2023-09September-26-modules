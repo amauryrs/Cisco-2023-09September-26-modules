{
 "cells": [
  {
   "cell_type": "markdown",
   "metadata": {},
   "source": [
    "# Agenda: Modules\n",
    "\n",
    "1. Using modules\n",
    "    - What are modules?\n",
    "    - What happens when you use `import`?\n",
    "    - Where does Python look for modules?\n",
    "    - Variations on `import`\n",
    "2. Writing modules\n",
    "    - What does a module file look like?\n",
    "    - Defining functions and variables in a module\n",
    "    - Global names in a module vs. attributes on a module object\n",
    "    - `__name__` and how it works and affects things"
   ]
  },
  {
   "cell_type": "markdown",
   "metadata": {},
   "source": [
    "# What are modules?\n",
    "\n",
    "One of the the biggest rules in programming is DRY -- don't repeat yourself!\n",
    "\n",
    "DRY  because:\n",
    "\n",
    "- It's more work to write\n",
    "- It's more of a cognitive load to keep track of\n",
    "- It takes long to execute\n",
    "- It's harder to wrap your mind around it when you're reading someone else's code\n",
    "- If you need to change something, you need to change it in multiple places\n",
    "\n",
    "The opposite of DRY code is ... WET code (\"write everything twice\")\n",
    "\n",
    "How can we DRY up our code?\n",
    "\n",
    "- If we have the same lines (more or less) several times in a row, we can use a loop.\n",
    "- If we have the same code (more or less) several times in the same program, we can use a function.\n",
    "- If we have the same code (more or less) several times in *different* programs... we can use a *library*. Then we can simply import the library into our program, and make use of that code.\n",
    "\n",
    "Every language has libraries. Python calls our libraries \"modules,\" and they function not just for DRYing up our code, but also as namespaces.\n",
    "\n",
    "In other words: If I work on a program and call my variable `x`, and you work on a program, and you call your variable `x`, and we want to join these programs together, then Python will ensure (because they're both modules) that the names don't collide and cause chaos."
   ]
  },
  {
   "cell_type": "code",
   "execution_count": 1,
   "metadata": {},
   "outputs": [
    {
     "data": {
      "text/plain": [
       "20"
      ]
     },
     "execution_count": 1,
     "metadata": {},
     "output_type": "execute_result"
    }
   ],
   "source": [
    "# simple example\n",
    "\n",
    "import random              # imported the \"random\" module\n",
    "random.randint(0, 100)     # invoked the randint function defined in the random module, passing it 0 and 100"
   ]
  },
  {
   "cell_type": "markdown",
   "metadata": {},
   "source": [
    "# What's weird about this?\n",
    "\n",
    "1. When we use `import`, we don't specify a file. How does Python know where to find the file? Or what it's called?\n",
    "2. `import` is not a function. We don't use parentheses.\n",
    "3. The name `random` is not a string. It's the variable we want to define.\n",
    "\n",
    "After executing `import random`, we have a new variable defined, `random`, and it refers to a module object. That module object contains all of the definitions from the file `random.py` that Python found and loaded.\n",
    "\n",
    "Python assumes that if you ask to `import xyz`, you want `xyz.py`.\n",
    "\n",
    "`import`, in many ways, is like `def`. `def` does two things:\n",
    "\n",
    "- Defines a new function object\n",
    "- Assigns that new function object to a variable\n",
    "\n",
    "In the same way, `import`:\n",
    "\n",
    "- Defines a new module object, based on loading a file\n",
    "- Assigns that module object to a variable"
   ]
  },
  {
   "cell_type": "code",
   "execution_count": 3,
   "metadata": {},
   "outputs": [
    {
     "data": {
      "text/plain": [
       "module"
      ]
     },
     "execution_count": 3,
     "metadata": {},
     "output_type": "execute_result"
    }
   ],
   "source": [
    "# you cannot have a module \"random\" and also a function \"random\" and also a variable \"random\"\n",
    "# there can be only one value assigned to the \"random\" variable at any given time!\n",
    "# the latest one that was defined works and sticks around... the others are gone\n",
    "\n",
    "type(random)"
   ]
  },
  {
   "cell_type": "code",
   "execution_count": null,
   "metadata": {},
   "outputs": [],
   "source": [
    "# what names are defined? We imported the module to get functions, objects, and data\n",
    "# what did we get?\n",
    "\n",
    "# we can use the \"dir\""
   ]
  }
 ],
 "metadata": {
  "kernelspec": {
   "display_name": "Python 3 (ipykernel)",
   "language": "python",
   "name": "python3"
  },
  "language_info": {
   "codemirror_mode": {
    "name": "ipython",
    "version": 3
   },
   "file_extension": ".py",
   "mimetype": "text/x-python",
   "name": "python",
   "nbconvert_exporter": "python",
   "pygments_lexer": "ipython3",
   "version": "3.11.5"
  }
 },
 "nbformat": 4,
 "nbformat_minor": 4
}
