{
 "cells": [
  {
   "cell_type": "markdown",
   "metadata": {},
   "source": [
    "# Agenda: Modules\n",
    "\n",
    "1. Using modules\n",
    "    - What are modules?\n",
    "    - What happens when you use `import`?\n",
    "    - Where does Python look for modules?\n",
    "    - Variations on `import`\n",
    "2. Writing modules\n",
    "    - What does a module file look like?\n",
    "    - Defining functions and variables in a module\n",
    "    - Global names in a module vs. attributes on a module object\n",
    "    - `__name__` and how it works and affects things"
   ]
  },
  {
   "cell_type": "code",
   "execution_count": null,
   "metadata": {},
   "outputs": [],
   "source": []
  }
 ],
 "metadata": {
  "kernelspec": {
   "display_name": "Python 3 (ipykernel)",
   "language": "python",
   "name": "python3"
  },
  "language_info": {
   "codemirror_mode": {
    "name": "ipython",
    "version": 3
   },
   "file_extension": ".py",
   "mimetype": "text/x-python",
   "name": "python",
   "nbconvert_exporter": "python",
   "pygments_lexer": "ipython3",
   "version": "3.11.5"
  }
 },
 "nbformat": 4,
 "nbformat_minor": 4
}
