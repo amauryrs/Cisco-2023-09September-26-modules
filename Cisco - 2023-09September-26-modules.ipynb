{
 "cells": [
  {
   "cell_type": "markdown",
   "metadata": {},
   "source": [
    "# Agenda: Modules\n",
    "\n",
    "1. Using modules\n",
    "    - What are modules?\n",
    "    - What happens when you use `import`?\n",
    "    - Where does Python look for modules?\n",
    "    - Variations on `import`\n",
    "2. Writing modules\n",
    "    - What does a module file look like?\n",
    "    - Defining functions and variables in a module\n",
    "    - Global names in a module vs. attributes on a module object\n",
    "    - `__name__` and how it works and affects things"
   ]
  },
  {
   "cell_type": "markdown",
   "metadata": {},
   "source": [
    "# What are modules?\n",
    "\n",
    "One of the the biggest rules in programming is DRY -- don't repeat yourself!\n",
    "\n",
    "DRY  because:\n",
    "\n",
    "- It's more work to write\n",
    "- It's more of a cognitive load to keep track of\n",
    "- It takes long to execute\n",
    "- It's harder to wrap your mind around it when you're reading someone else's code\n",
    "- If you need to change something, you need to change it in multiple places\n",
    "\n",
    "The opposite of DRY code is ... WET code (\"write everything twice\")\n",
    "\n",
    "How can we DRY up our code?\n",
    "\n",
    "- If we have the same lines (more or less) several times in a row, we can use a loop.\n",
    "- If we have the same code (more or less) several times in the same program, we can use a function.\n",
    "- If we have the same code (more or less) several times in *different* programs... we can use a *library*. Then we can simply import the library into our program, and make use of that code.\n",
    "\n",
    "Every language has libraries. Python calls our libraries"
   ]
  },
  {
   "cell_type": "code",
   "execution_count": null,
   "metadata": {},
   "outputs": [],
   "source": []
  }
 ],
 "metadata": {
  "kernelspec": {
   "display_name": "Python 3 (ipykernel)",
   "language": "python",
   "name": "python3"
  },
  "language_info": {
   "codemirror_mode": {
    "name": "ipython",
    "version": 3
   },
   "file_extension": ".py",
   "mimetype": "text/x-python",
   "name": "python",
   "nbconvert_exporter": "python",
   "pygments_lexer": "ipython3",
   "version": "3.11.5"
  }
 },
 "nbformat": 4,
 "nbformat_minor": 4
}
